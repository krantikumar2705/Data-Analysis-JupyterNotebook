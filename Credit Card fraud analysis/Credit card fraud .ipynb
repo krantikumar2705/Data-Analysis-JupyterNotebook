{
 "cells": [
  {
   "cell_type": "code",
   "execution_count": 2,
   "id": "e4f79550-3c8d-469d-bcad-667951aa5df5",
   "metadata": {},
   "outputs": [],
   "source": [
    "import pandas as pd\n",
    "import seaborn as sns\n",
    "import matplotlib.pyplot as plt"
   ]
  },
  {
   "cell_type": "code",
   "execution_count": null,
   "id": "746bb759-4d3e-41b5-b69d-d8bde003df6f",
   "metadata": {},
   "outputs": [],
   "source": [
    "df = pd.read_csv(r\"C:\\Users\\prmma\\OneDrive\\Desktop\\Credit Card fraud analysis\\creditcard.csv\")"
   ]
  },
  {
   "cell_type": "code",
   "execution_count": null,
   "id": "a931a083-f9e2-4cc3-80a7-b40e30f1922f",
   "metadata": {
    "scrolled": true
   },
   "outputs": [],
   "source": [
    "df.head() #Amount is on Doller"
   ]
  },
  {
   "cell_type": "code",
   "execution_count": null,
   "id": "1b9b5279-c163-4a9d-a62d-870cf676ba79",
   "metadata": {},
   "outputs": [],
   "source": [
    "pd.options.display.max_columns = None"
   ]
  },
  {
   "cell_type": "code",
   "execution_count": null,
   "id": "0fd3207f-ffe6-490a-ae71-91f496cb7353",
   "metadata": {},
   "outputs": [],
   "source": []
  },
  {
   "cell_type": "code",
   "execution_count": null,
   "id": "ad761bda-83cf-48de-a0fb-562abb82e638",
   "metadata": {},
   "outputs": [],
   "source": [
    "df.tail()"
   ]
  },
  {
   "cell_type": "code",
   "execution_count": null,
   "id": "ef23b532-10b0-4b65-81c2-2e4307da3551",
   "metadata": {},
   "outputs": [],
   "source": [
    "df.shape"
   ]
  },
  {
   "cell_type": "code",
   "execution_count": null,
   "id": "81b66126-abdc-4c40-b7f5-d2f0c2f3dfb9",
   "metadata": {},
   "outputs": [],
   "source": [
    "df.info()"
   ]
  },
  {
   "cell_type": "code",
   "execution_count": null,
   "id": "ecc6a8dc-bcb0-46a2-8df0-a5308d2dcd8c",
   "metadata": {},
   "outputs": [],
   "source": [
    "df.duplicated().sum()"
   ]
  },
  {
   "cell_type": "code",
   "execution_count": null,
   "id": "bd575015-5d96-47fd-89d1-036aec4862e0",
   "metadata": {},
   "outputs": [],
   "source": [
    "df.drop_duplicates(inplace = True)"
   ]
  },
  {
   "cell_type": "code",
   "execution_count": null,
   "id": "ce43b1d6-2ba8-405e-9af3-1c645ec0ed67",
   "metadata": {},
   "outputs": [],
   "source": [
    "df.shape"
   ]
  },
  {
   "cell_type": "code",
   "execution_count": null,
   "id": "847135cc-6085-4029-9d22-9d2e4fb28587",
   "metadata": {},
   "outputs": [],
   "source": [
    "df.hist(bins = 30,figsize = (30,30))"
   ]
  },
  {
   "cell_type": "code",
   "execution_count": null,
   "id": "2220fc92-da28-40c2-a136-24c4da0aca2c",
   "metadata": {},
   "outputs": [],
   "source": [
    "df.describe()"
   ]
  },
  {
   "cell_type": "code",
   "execution_count": null,
   "id": "afe65297-2c60-429a-9adb-3832d89800f7",
   "metadata": {},
   "outputs": [],
   "source": [
    "df[\"Class\"].value_counts() #totally unbalance data"
   ]
  },
  {
   "cell_type": "markdown",
   "id": "6419a46d-6618-4dbe-8ca3-464aa1127b83",
   "metadata": {},
   "source": [
    "### Amount V Class"
   ]
  },
  {
   "cell_type": "code",
   "execution_count": null,
   "id": "531a9ecc-9a4f-4b35-a5af-38f073b6b664",
   "metadata": {},
   "outputs": [],
   "source": [
    "plt.scatter(df[\"Amount\"],df[\"Class\"])\n",
    "plt.xlabel(\"Normal and Fraud Transaction\")\n",
    "plt.ylabel(\"Transaction  - Amount V Fraud\")\n",
    "plt.xlabel(\"Transaction Amount(USD\")"
   ]
  },
  {
   "cell_type": "markdown",
   "id": "3529fa7f-7751-451d-b4fc-30cf27a3f692",
   "metadata": {},
   "source": [
    "## 0 = Normal Transaction\n",
    "## 1 = Fraud Transacction"
   ]
  },
  {
   "cell_type": "code",
   "execution_count": null,
   "id": "e62e0a60-6412-4b5e-9512-527faacbf55c",
   "metadata": {},
   "outputs": [],
   "source": [
    "sns.countplot(x='Class', data=df)\n",
    "plt.title('Distribution of Classes')"
   ]
  },
  {
   "cell_type": "markdown",
   "id": "0e90a940-f93a-49a2-af8f-c26d78fe458d",
   "metadata": {},
   "source": [
    "### created 2 data frame to legit transaction and fraud"
   ]
  },
  {
   "cell_type": "code",
   "execution_count": null,
   "id": "0b3d2f22-0c11-4a28-a187-a4c27032df75",
   "metadata": {},
   "outputs": [],
   "source": [
    "legit = df[df[\"Class\"]==0] # created 2 data frame to legit transaction and fraud\n",
    "fraud = df[df[\"Class\"] == 1]"
   ]
  },
  {
   "cell_type": "code",
   "execution_count": null,
   "id": "9b8a2f06-220a-4a84-9017-dcfa18b782fc",
   "metadata": {},
   "outputs": [],
   "source": [
    "legit.head()"
   ]
  },
  {
   "cell_type": "code",
   "execution_count": null,
   "id": "4a5af888-5f7d-41b0-a091-fd07171178cf",
   "metadata": {},
   "outputs": [],
   "source": [
    "legit.shape"
   ]
  },
  {
   "cell_type": "code",
   "execution_count": null,
   "id": "bcc2b203-1211-4c21-b79c-6861c3232727",
   "metadata": {},
   "outputs": [],
   "source": [
    "fraud.shape"
   ]
  },
  {
   "cell_type": "code",
   "execution_count": null,
   "id": "6052cc34-4c9d-49a9-b070-670f974e636e",
   "metadata": {},
   "outputs": [],
   "source": [
    "legit.Amount.describe() # Legit Transaction"
   ]
  },
  {
   "cell_type": "code",
   "execution_count": null,
   "id": "50698d26-f6bc-4b16-ad6b-bc5d0bcb178c",
   "metadata": {},
   "outputs": [],
   "source": [
    "fraud.Amount.describe() #Fraud Transaction"
   ]
  },
  {
   "cell_type": "markdown",
   "id": "487e81a6-2789-45af-9431-e9421716b2be",
   "metadata": {},
   "source": [
    "# Under sampaling"
   ]
  },
  {
   "cell_type": "markdown",
   "id": "3737e1c5-2e4e-4f97-8876-62d05df6bb4e",
   "metadata": {},
   "source": [
    "#### Build a sample dataset containing similar distribution of normal transactions and Fraudulent Transactions\n",
    "\n",
    "#### Number of Fraudulent Transactions -> 492"
   ]
  },
  {
   "cell_type": "code",
   "execution_count": null,
   "id": "e204a721-3d53-4f4a-96f7-e2f70a7ef346",
   "metadata": {},
   "outputs": [],
   "source": [
    "# and concateting 2 Data Framel\n",
    "legit_sample = legit.sample(n = 473)\n",
    "credit_card_df  = pd.concat([legit_sample,fraud],axis =0)# added as rowwise) #0# added as rowwise"
   ]
  },
  {
   "cell_type": "code",
   "execution_count": null,
   "id": "44b6d611-58ce-4982-a09b-ab349aeb20a8",
   "metadata": {},
   "outputs": [],
   "source": [
    "credit_card_df.head()"
   ]
  },
  {
   "cell_type": "code",
   "execution_count": null,
   "id": "c0f202b4-cb87-4639-a96d-68347a1d5ffb",
   "metadata": {},
   "outputs": [],
   "source": [
    "credit_card_df.shape"
   ]
  },
  {
   "cell_type": "code",
   "execution_count": null,
   "id": "5c2edc15-b430-4d43-a1c5-402db7110e7e",
   "metadata": {},
   "outputs": [],
   "source": [
    "credit_card_df.Class.value_counts()"
   ]
  },
  {
   "cell_type": "code",
   "execution_count": null,
   "id": "5e36e896-e7ca-496e-837a-dd72baecbf51",
   "metadata": {},
   "outputs": [],
   "source": [
    "credit_card_df.groupby(\"Class\").mean()"
   ]
  },
  {
   "cell_type": "markdown",
   "id": "e725828e-e957-40a9-823b-162f1eaba97d",
   "metadata": {},
   "source": [
    "#### Splitting the dataset into features and target"
   ]
  },
  {
   "cell_type": "code",
   "execution_count": null,
   "id": "f846f756-9476-4bdb-8a99-cb707c4bc608",
   "metadata": {},
   "outputs": [],
   "source": [
    "X = credit_card_df.drop(\"Class\",axis = 1) #X will contain all the columns of the original DataFrame except for the \"Class\" column. \n",
    "Y = credit_card_df[\"Class\"] #Y will contain the values of the \"Class\" column. \n",
    "                            #This column usually represents the target variable (or labels) in a classification task,\n",
    "                            #indicating whether a transaction is fraudulent (typically labeled as 1) or not (typically labeled as 0).\n"
   ]
  },
  {
   "cell_type": "code",
   "execution_count": null,
   "id": "6667dd83-2ebf-468a-974e-f334c9666d9a",
   "metadata": {},
   "outputs": [],
   "source": [
    "X.shape"
   ]
  },
  {
   "cell_type": "code",
   "execution_count": null,
   "id": "537f218b-d0cf-4248-b8f6-d86bdd7ce58d",
   "metadata": {},
   "outputs": [],
   "source": [
    "Y.shape"
   ]
  },
  {
   "cell_type": "markdown",
   "id": "fe500f2d-c626-4f58-b30d-ec7e9f46fd32",
   "metadata": {},
   "source": [
    "### Library logistic regression model"
   ]
  },
  {
   "cell_type": "code",
   "execution_count": null,
   "id": "e9a27cf0-8617-4520-ba8a-349aae1631f2",
   "metadata": {},
   "outputs": [],
   "source": [
    "from sklearn.model_selection import train_test_split\n",
    "from sklearn.linear_model import LogisticRegression\n",
    "from sklearn.metrics import accuracy_score"
   ]
  },
  {
   "cell_type": "code",
   "execution_count": null,
   "id": "14c2ec58-6f85-4a96-ba55-28188e6dcc98",
   "metadata": {},
   "outputs": [],
   "source": [
    "X_train, X_test, Y_train, Y_test = train_test_split(X, Y, test_size=0.2, stratify = Y, random_state = 2) #train_test_split is a function from the sklearn.model_selection module used to split arrays or matrices into random train and test subsets."
   ]
  },
  {
   "cell_type": "code",
   "execution_count": null,
   "id": "dea1f7c5-8512-4eef-94b1-1ba6bd64ecae",
   "metadata": {},
   "outputs": [],
   "source": [
    "print(X_train.shape, X_test.shape, Y_train.shape, Y_test.shape)"
   ]
  },
  {
   "cell_type": "markdown",
   "id": "e221ab18-adbb-4955-b4f3-f7f73e425477",
   "metadata": {},
   "source": [
    "### model training Logistic regression"
   ]
  },
  {
   "cell_type": "code",
   "execution_count": null,
   "id": "ae802bd4-750c-4c93-8772-706c7e69d677",
   "metadata": {},
   "outputs": [],
   "source": [
    "model = LogisticRegression()"
   ]
  },
  {
   "cell_type": "markdown",
   "id": "6e25ce1b-77b1-4e21-919a-c167857b7988",
   "metadata": {},
   "source": [
    "### tranning the logistic Regression model with training data"
   ]
  },
  {
   "cell_type": "code",
   "execution_count": null,
   "id": "417a5065-77c1-41cf-bb49-b609153a0ee0",
   "metadata": {},
   "outputs": [],
   "source": [
    "model.fit(X_train, Y_train)"
   ]
  },
  {
   "cell_type": "markdown",
   "id": "fe119eea-12b9-45e6-882c-4d10e5932f47",
   "metadata": {},
   "source": [
    "### Model Evalution\n",
    "### Accuracy Score/'"
   ]
  },
  {
   "cell_type": "code",
   "execution_count": null,
   "id": "44d03072-4ef8-4540-9371-361b9c823f5d",
   "metadata": {},
   "outputs": [],
   "source": [
    "X_train_prediction = model.predict(X_train)\n",
    "training_data_accuracy = accuracy_score(X_train_prediction, Y_train)"
   ]
  },
  {
   "cell_type": "code",
   "execution_count": null,
   "id": "0c06fb73-1445-4448-9f5d-a0560b2747ad",
   "metadata": {},
   "outputs": [],
   "source": [
    "print(\"Accuracy of training data :\", training_data_accuracy) #above 75 or 80 that prediction is V GOOD"
   ]
  },
  {
   "cell_type": "code",
   "execution_count": null,
   "id": "7f27c8cd-3de1-4435-989d-8668daa1ab64",
   "metadata": {},
   "outputs": [],
   "source": [
    "X_test_prediction  = model.predict(X_test)\n",
    "test_data_accuracy = accuracy_score(X_test_prediction, Y_test)"
   ]
  },
  {
   "cell_type": "code",
   "execution_count": null,
   "id": "09e36eb5-350b-48f4-b23e-70841914e8f6",
   "metadata": {},
   "outputs": [],
   "source": [
    "print(\"Accuracy of training data:\", test_data_accuracy) "
   ]
  },
  {
   "cell_type": "code",
   "execution_count": null,
   "id": "143af481-0055-47fa-8a4b-a3d259f0cdb5",
   "metadata": {},
   "outputs": [],
   "source": []
  },
  {
   "cell_type": "code",
   "execution_count": null,
   "id": "1c5ec83b-eb72-4f6a-9591-acc6c25e57d2",
   "metadata": {},
   "outputs": [],
   "source": []
  }
 ],
 "metadata": {
  "kernelspec": {
   "display_name": "Python 3 (ipykernel)",
   "language": "python",
   "name": "python3"
  },
  "language_info": {
   "codemirror_mode": {
    "name": "ipython",
    "version": 3
   },
   "file_extension": ".py",
   "mimetype": "text/x-python",
   "name": "python",
   "nbconvert_exporter": "python",
   "pygments_lexer": "ipython3",
   "version": "3.12.4"
  }
 },
 "nbformat": 4,
 "nbformat_minor": 5
}
